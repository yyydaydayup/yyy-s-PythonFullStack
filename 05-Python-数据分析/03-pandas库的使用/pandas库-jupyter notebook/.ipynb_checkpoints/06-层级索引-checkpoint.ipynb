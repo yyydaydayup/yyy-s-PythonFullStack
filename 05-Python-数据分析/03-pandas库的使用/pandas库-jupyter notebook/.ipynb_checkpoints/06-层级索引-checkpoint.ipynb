{
 "cells": [
  {
   "cell_type": "code",
   "execution_count": 2,
   "metadata": {},
   "outputs": [],
   "source": [
    "import numpy as np\n",
    "import pandas as pd"
   ]
  },
  {
   "cell_type": "code",
   "execution_count": 8,
   "metadata": {},
   "outputs": [
    {
     "data": {
      "text/plain": [
       "a  0    80\n",
       "   1    25\n",
       "   2    98\n",
       "b  0    24\n",
       "   1    89\n",
       "   2    63\n",
       "c  0    93\n",
       "   1    87\n",
       "   2    14\n",
       "d  0    67\n",
       "   1    60\n",
       "   2    86\n",
       "dtype: int32"
      ]
     },
     "execution_count": 8,
     "metadata": {},
     "output_type": "execute_result"
    }
   ],
   "source": [
    "s = pd.Series(np.random.randint(100,size=(12,)),index = [['a','a','a','b','b','b','c','c','c','d','d','d'],[0,1,2,0,1,2,0,1,2,0,1,2]])\n",
    "s\n"
   ]
  },
  {
   "cell_type": "code",
   "execution_count": 9,
   "metadata": {},
   "outputs": [
    {
     "data": {
      "text/plain": [
       "pandas.core.indexes.multi.MultiIndex"
      ]
     },
     "execution_count": 9,
     "metadata": {},
     "output_type": "execute_result"
    }
   ],
   "source": [
    "type(s.index)"
   ]
  },
  {
   "cell_type": "code",
   "execution_count": 10,
   "metadata": {},
   "outputs": [
    {
     "data": {
      "text/plain": [
       "MultiIndex([('a', 0),\n",
       "            ('a', 1),\n",
       "            ('a', 2),\n",
       "            ('b', 0),\n",
       "            ('b', 1),\n",
       "            ('b', 2),\n",
       "            ('c', 0),\n",
       "            ('c', 1),\n",
       "            ('c', 2),\n",
       "            ('d', 0),\n",
       "            ('d', 1),\n",
       "            ('d', 2)],\n",
       "           )"
      ]
     },
     "execution_count": 10,
     "metadata": {},
     "output_type": "execute_result"
    }
   ],
   "source": [
    "s.index"
   ]
  },
  {
   "cell_type": "code",
   "execution_count": null,
   "metadata": {},
   "outputs": [],
   "source": []
  },
  {
   "cell_type": "markdown",
   "metadata": {},
   "source": [
    "## 02.引用"
   ]
  },
  {
   "cell_type": "markdown",
   "metadata": {},
   "source": [
    "同二维数组的花式索引：以逗号为分隔，逗号左边是外层索引，逗号右边是内层索引"
   ]
  },
  {
   "cell_type": "code",
   "execution_count": 11,
   "metadata": {},
   "outputs": [
    {
     "data": {
      "text/plain": [
       "0    24\n",
       "1    89\n",
       "2    63\n",
       "dtype: int32"
      ]
     },
     "execution_count": 11,
     "metadata": {},
     "output_type": "execute_result"
    }
   ],
   "source": [
    "# 1.外层引用\n",
    "s['b']"
   ]
  },
  {
   "cell_type": "code",
   "execution_count": 12,
   "metadata": {},
   "outputs": [
    {
     "data": {
      "text/plain": [
       "a    98\n",
       "b    63\n",
       "c    14\n",
       "d    86\n",
       "dtype: int32"
      ]
     },
     "execution_count": 12,
     "metadata": {},
     "output_type": "execute_result"
    }
   ],
   "source": [
    "# 2.内层引用\n",
    "s[:,2]"
   ]
  },
  {
   "cell_type": "code",
   "execution_count": 13,
   "metadata": {},
   "outputs": [
    {
     "data": {
      "text/plain": [
       "14"
      ]
     },
     "execution_count": 13,
     "metadata": {},
     "output_type": "execute_result"
    }
   ],
   "source": [
    "s['c',2]"
   ]
  },
  {
   "cell_type": "markdown",
   "metadata": {},
   "source": [
    "## 03.交换"
   ]
  },
  {
   "cell_type": "code",
   "execution_count": 14,
   "metadata": {},
   "outputs": [
    {
     "data": {
      "text/plain": [
       "0  a    80\n",
       "1  a    25\n",
       "2  a    98\n",
       "0  b    24\n",
       "1  b    89\n",
       "2  b    63\n",
       "0  c    93\n",
       "1  c    87\n",
       "2  c    14\n",
       "0  d    67\n",
       "1  d    60\n",
       "2  d    86\n",
       "dtype: int32"
      ]
     },
     "execution_count": 14,
     "metadata": {},
     "output_type": "execute_result"
    }
   ],
   "source": [
    "s.swaplevel()  # 默认不会改变原Series对象，若想改变原对象，只需令copy=False"
   ]
  },
  {
   "cell_type": "code",
   "execution_count": 17,
   "metadata": {},
   "outputs": [
    {
     "data": {
      "text/plain": [
       "0  a    80\n",
       "   b    24\n",
       "   c    93\n",
       "   d    67\n",
       "1  a    25\n",
       "   b    89\n",
       "   c    87\n",
       "   d    60\n",
       "2  a    98\n",
       "   b    63\n",
       "   c    14\n",
       "   d    86\n",
       "dtype: int32"
      ]
     },
     "execution_count": 17,
     "metadata": {},
     "output_type": "execute_result"
    }
   ],
   "source": [
    "s.swaplevel().sort_index()"
   ]
  }
 ],
 "metadata": {
  "kernelspec": {
   "display_name": "Python 3",
   "language": "python",
   "name": "python3"
  },
  "language_info": {
   "codemirror_mode": {
    "name": "ipython",
    "version": 3
   },
   "file_extension": ".py",
   "mimetype": "text/x-python",
   "name": "python",
   "nbconvert_exporter": "python",
   "pygments_lexer": "ipython3",
   "version": "3.8.3"
  }
 },
 "nbformat": 4,
 "nbformat_minor": 4
}
