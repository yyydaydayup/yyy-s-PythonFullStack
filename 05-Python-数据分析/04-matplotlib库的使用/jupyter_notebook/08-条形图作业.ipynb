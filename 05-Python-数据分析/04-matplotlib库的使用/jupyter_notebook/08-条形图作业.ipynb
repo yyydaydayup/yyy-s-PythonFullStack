{
 "cells": [
  {
   "cell_type": "code",
   "execution_count": 1,
   "metadata": {},
   "outputs": [],
   "source": [
    "import numpy as np\n",
    "import pandas as pd\n",
    "import matplotlib.pyplot as plt\n",
    "from matplotlib import font_manager\n",
    "font = font_manager.FontProperties(fname=r\"C:\\\\Windows\\\\Fonts\\\\msyh.ttc\",size=20)"
   ]
  },
  {
   "cell_type": "code",
   "execution_count": 2,
   "metadata": {},
   "outputs": [],
   "source": [
    "data = {\n",
    "    \"普通本科\":[721,738,749,761,791],\n",
    "    \"中等职业教育\": [620,601,593,582,557],\n",
    "    \"普通高中\": [797,797,803,800,793]\n",
    "}"
   ]
  },
  {
   "cell_type": "code",
   "execution_count": 3,
   "metadata": {},
   "outputs": [
    {
     "data": {
      "text/html": [
       "<div>\n",
       "<style scoped>\n",
       "    .dataframe tbody tr th:only-of-type {\n",
       "        vertical-align: middle;\n",
       "    }\n",
       "\n",
       "    .dataframe tbody tr th {\n",
       "        vertical-align: top;\n",
       "    }\n",
       "\n",
       "    .dataframe thead th {\n",
       "        text-align: right;\n",
       "    }\n",
       "</style>\n",
       "<table border=\"1\" class=\"dataframe\">\n",
       "  <thead>\n",
       "    <tr style=\"text-align: right;\">\n",
       "      <th></th>\n",
       "      <th>普通本科</th>\n",
       "      <th>中等职业教育</th>\n",
       "      <th>普通高中</th>\n",
       "    </tr>\n",
       "  </thead>\n",
       "  <tbody>\n",
       "    <tr>\n",
       "      <th>0</th>\n",
       "      <td>721</td>\n",
       "      <td>620</td>\n",
       "      <td>797</td>\n",
       "    </tr>\n",
       "    <tr>\n",
       "      <th>1</th>\n",
       "      <td>738</td>\n",
       "      <td>601</td>\n",
       "      <td>797</td>\n",
       "    </tr>\n",
       "    <tr>\n",
       "      <th>2</th>\n",
       "      <td>749</td>\n",
       "      <td>593</td>\n",
       "      <td>803</td>\n",
       "    </tr>\n",
       "    <tr>\n",
       "      <th>3</th>\n",
       "      <td>761</td>\n",
       "      <td>582</td>\n",
       "      <td>800</td>\n",
       "    </tr>\n",
       "    <tr>\n",
       "      <th>4</th>\n",
       "      <td>791</td>\n",
       "      <td>557</td>\n",
       "      <td>793</td>\n",
       "    </tr>\n",
       "  </tbody>\n",
       "</table>\n",
       "</div>"
      ],
      "text/plain": [
       "   普通本科  中等职业教育  普通高中\n",
       "0   721     620   797\n",
       "1   738     601   797\n",
       "2   749     593   803\n",
       "3   761     582   800\n",
       "4   791     557   793"
      ]
     },
     "execution_count": 3,
     "metadata": {},
     "output_type": "execute_result"
    }
   ],
   "source": [
    "df = pd.DataFrame(data=data)\n",
    "df"
   ]
  },
  {
   "cell_type": "code",
   "execution_count": 19,
   "metadata": {},
   "outputs": [
    {
     "data": {
      "image/png": "[encoded data removed]",
      "text/plain": [
       "<Figure size 1080x360 with 1 Axes>"
      ]
     },
     "metadata": {
      "needs_background": "light"
     },
     "output_type": "display_data"
    }
   ],
   "source": [
    "bar_width=0.25\n",
    "# x轴刻度\n",
    "xticks_pos=np.arange(len(df.index))\n",
    "xticks=range(2014,2019)\n",
    "# 设置图的大小\n",
    "plt.figure(figsize=(15,5))\n",
    "\n",
    "# 循环列，按年份绘制条形图\n",
    "for index,name in enumerate(df.columns):\n",
    "    x_pos = xticks_pos+(index-1)*bar_width\n",
    "    plt.bar(x_pos,df[name],width=bar_width,label=name)\n",
    "    for x,y in zip(x_pos,df[name]):\n",
    "        plt.annotate('%d'%y,xy=(x,y),xytext=(x-0.08,y+20),fontproperties=font)\n",
    "\n",
    "\n",
    "\n",
    "# 设置图例\n",
    "font.set_size(12)\n",
    "plt.legend(prop=font,ncol=3,loc='upper right')\n",
    "# 设置刻度\n",
    "plt.xticks(xticks_pos,xticks)\n",
    "plt.ylim(top=1000) # 这句话等价于下面的一句\n",
    "# plt.yticks(range(0,1200,200),range(0,1200,200))\n",
    "# 设置标题\n",
    "plt.title(\"2014-2018普通本科、中等职业教育、普通高中招生人数\",fontproperties=font)\n",
    "plt.ylabel('万人',fontproperties=font,rotation='horizontal')\n",
    "# 通过set_label_coords才能灵活设置ylabel的位置。以下代码可选实现（不懂删掉没有任何关系）\n",
    "plt.gca().yaxis.set_label_coords(-0.02,1.02) \n",
    "plt.show()"
   ]
  }
 ],
 "metadata": {
  "kernelspec": {
   "display_name": "Python 3",
   "language": "python",
   "name": "python3"
  },
  "language_info": {
   "codemirror_mode": {
    "name": "ipython",
    "version": 3
   },
   "file_extension": ".py",
   "mimetype": "text/x-python",
   "name": "python",
   "nbconvert_exporter": "python",
   "pygments_lexer": "ipython3",
   "version": "3.8.3"
  }
 },
 "nbformat": 4,
 "nbformat_minor": 4
}
