{
 "cells": [
  {
   "cell_type": "code",
   "execution_count": 1,
   "metadata": {},
   "outputs": [],
   "source": [
    "import pandas as pd\n",
    "import numpy as np"
   ]
  },
  {
   "cell_type": "code",
   "execution_count": 2,
   "metadata": {},
   "outputs": [
    {
     "data": {
      "text/plain": [
       "class\n",
       "1     90.0\n",
       "2     95.0\n",
       "3     85.0\n",
       "4     78.0\n",
       "5      NaN\n",
       "6     96.0\n",
       "7     95.0\n",
       "8      NaN\n",
       "9     80.0\n",
       "10    87.0\n",
       "11    86.0\n",
       "12    83.0\n",
       "Name: score, dtype: float64"
      ]
     },
     "execution_count": 2,
     "metadata": {},
     "output_type": "execute_result"
    }
   ],
   "source": [
    "# 1.按照上表创建Series对象（对象名“score”，索引名“class”）\n",
    "index = np.arange(1,13)\n",
    "score = [90,95,85,78,np.nan,96,95,np.nan,80,87,86,83]\n",
    "s = pd.Series(score,index=index,name='score')\n",
    "s.index.name = 'class'\n",
    "s"
   ]
  },
  {
   "cell_type": "code",
   "execution_count": 3,
   "metadata": {},
   "outputs": [
    {
     "data": {
      "text/plain": [
       "class\n",
       "1    90.0\n",
       "2    95.0\n",
       "3    85.0\n",
       "4    78.0\n",
       "5     NaN\n",
       "Name: score, dtype: float64"
      ]
     },
     "execution_count": 3,
     "metadata": {},
     "output_type": "execute_result"
    }
   ],
   "source": [
    "# 2.查看1-5班的数据\n",
    "score_one2five = s[0:5]\n",
    "score_one2five"
   ]
  },
  {
   "cell_type": "code",
   "execution_count": 4,
   "metadata": {},
   "outputs": [
    {
     "data": {
      "text/plain": [
       "class\n",
       "5   NaN\n",
       "8   NaN\n",
       "Name: score, dtype: float64"
      ]
     },
     "execution_count": 4,
     "metadata": {},
     "output_type": "execute_result"
    }
   ],
   "source": [
    "# 3.查看那个班级的成绩还没有导入\n",
    "s[s.isnull()]"
   ]
  },
  {
   "cell_type": "code",
   "execution_count": 5,
   "metadata": {},
   "outputs": [
    {
     "data": {
      "text/plain": [
       "86.0"
      ]
     },
     "execution_count": 5,
     "metadata": {},
     "output_type": "execute_result"
    }
   ],
   "source": [
    "# 4.获取11班的平均成绩\n",
    "s[11]"
   ]
  },
  {
   "cell_type": "code",
   "execution_count": 10,
   "metadata": {},
   "outputs": [
    {
     "data": {
      "text/plain": [
       "class\n",
       "1     92.0\n",
       "2     97.0\n",
       "3     87.0\n",
       "4     80.0\n",
       "5      NaN\n",
       "6     98.0\n",
       "7     97.0\n",
       "8      NaN\n",
       "9     82.0\n",
       "10    89.0\n",
       "11    88.0\n",
       "12    85.0\n",
       "Name: score, dtype: float64"
      ]
     },
     "execution_count": 10,
     "metadata": {},
     "output_type": "execute_result"
    }
   ],
   "source": [
    "# 5.有一道题目的参考答案是错误的，所以在每位同学现有的成绩上加2分\n",
    "s = s+2\n",
    "s"
   ]
  },
  {
   "cell_type": "code",
   "execution_count": 11,
   "metadata": {},
   "outputs": [
    {
     "data": {
      "text/plain": [
       "class\n",
       "1    92.0\n",
       "2    97.0\n",
       "6    98.0\n",
       "7    97.0\n",
       "Name: score, dtype: float64"
      ]
     },
     "execution_count": 11,
     "metadata": {},
     "output_type": "execute_result"
    }
   ],
   "source": [
    "# 6.找出平均成绩在90分以上的班级\n",
    "s[s>90]"
   ]
  }
 ],
 "metadata": {
  "kernelspec": {
   "display_name": "Python 3",
   "language": "python",
   "name": "python3"
  },
  "language_info": {
   "codemirror_mode": {
    "name": "ipython",
    "version": 3
   },
   "file_extension": ".py",
   "mimetype": "text/x-python",
   "name": "python",
   "nbconvert_exporter": "python",
   "pygments_lexer": "ipython3",
   "version": "3.8.3"
  }
 },
 "nbformat": 4,
 "nbformat_minor": 4
}
